{
 "cells": [
  {
   "cell_type": "markdown",
   "metadata": {},
   "source": [
    "# Лабораторная работа 6\n",
    "\n",
    "## Общая информация\n",
    "\n",
    "**Дата выдачи**: 05.12.2022/09.12.2022\n",
    "\n",
    "**Срок сдачи**: 19.12.2022/23.12.2022 *(Но требуется обязательная демонстрация текущего прогресса преподавателю во время лабораторного занятия 12.12.2022/16.12.2022)*\n",
    "\n",
    "### О задании\n",
    "Целью данного задания является приобретение навыков работы с текстом, обучение моделей классификации на этих данных. \n",
    "\n",
    "### Оценивание и штрафы\n",
    "Максимально допустимая оценка за работу — 10 баллов.\n",
    "\n",
    "Сдача заданий после указанного срока сдачи ведёт к снижению оценки.\n",
    "\n",
    "Задание выполняется САМОСТОЯТЕЛЬНО. «Похожие» решения считаются плагиатом и все задействованные студенты (в том числе те, у кого списали) не могут получить за него больше 0 баллов. Если вы нашли решение какого-то из заданий в открытом источнике, необходимо прислать ссылку на этот источник (скорее всего вы будете не единственным, кто это нашел, поэтому чтобы исключить подозрение в плагиате, необходима ссылка на источник). \n",
    "\n",
    "### Формат сдачи\n",
    "Устная защита выполненной лабораторной работы ОБЯЗАТЕЛЬНА!\n",
    "\n",
    "После успешной устной защиты переименуйте получившийся файл `*.ipynb` в соответствии со следующим форматом: *Username_lab_6.ipynb*, где Username — ваша фамилия на латинице (например, `lehusheu_lab_6.ipynb`) и отправьте этот файл электронной почтой по адресу `dmitri.legushev.bsu@gmail.com` c темой письма *Фамилия преподавателя - Лабораторная работа 6 - Фамилия Имя Отчество* (для обоих подгрупп). Подгруппа Атрохова Кирилла Георгиевича также ставит в копию адрес `kiryl.atrokhau+ml2022@gmail.com`. Это будет являться письменным отчетом о выполнении лабораторной работы."
   ]
  },
  {
   "cell_type": "markdown",
   "metadata": {},
   "source": [
    "**Задача:** В Швейцарии 4 государственных языка. Цель лабораторной работы -- предсказать язык по фрагменту разговорной речи.\n",
    "\n",
    "**Данные:**\n",
    "\n",
    "Описание файлов:\n",
    "- train.csv - обучающая выборка\n",
    "- test.csv - тестовая выборка\n",
    "- sampleSubmission.csv - пример результирующего файла для его сабмита на кэгл\n",
    "\n",
    "Описание колонок:\n",
    "- Id - уникальный индекс для тестовой выборки (test.csv)\n",
    "- Text - фрагмент речи\n",
    "- Label - целевой класс языка для конкретного фрагмента речи (train.csv)\n",
    "- Prediction - предсказанный класс языка (sampleSubmission.csv)\n",
    "\n",
    "Описание классов:\n",
    "\n",
    "`BE Bernese\n",
    " LU Lucerne\n",
    " ZH Zurich\n",
    " BS Basel`\n",
    "    \n",
    "    \n",
    "**Подробнее о данных:** https://www.kaggle.com/competitions/swiss-dialect-identification/data "
   ]
  },
  {
   "cell_type": "markdown",
   "metadata": {},
   "source": [
    "1. Загрузить датафреймы через pandas. Выполнить предобработку `Bag of Words`."
   ]
  },
  {
   "cell_type": "code",
   "execution_count": null,
   "metadata": {},
   "outputs": [],
   "source": []
  },
  {
   "cell_type": "markdown",
   "metadata": {},
   "source": [
    "2. Обучить различные модели `Random forest`, `Gradient boosting`, `SGD classifier` и тд (можно попробовать полносвязную нейронную сеть), снять метрику `accuracy` на валидационных данных."
   ]
  },
  {
   "cell_type": "code",
   "execution_count": null,
   "metadata": {},
   "outputs": [],
   "source": []
  },
  {
   "cell_type": "markdown",
   "metadata": {},
   "source": [
    "3. Выполнить предобработку `tf-idf`, поварировать параметры предобработки. Обучить модели. Как изменилось качество моделей с предобработкой `Bag of words` и `tf-idf`?"
   ]
  },
  {
   "cell_type": "code",
   "execution_count": null,
   "metadata": {},
   "outputs": [],
   "source": []
  },
  {
   "cell_type": "markdown",
   "metadata": {},
   "source": [
    "4. Подумать как могут н-граммы слов или символов улучшить результата для предсказания языка. Попробовать составить токены n-gramm слов или символов и обучить выбранные модели на них. "
   ]
  },
  {
   "cell_type": "code",
   "execution_count": null,
   "metadata": {},
   "outputs": [],
   "source": []
  },
  {
   "cell_type": "markdown",
   "metadata": {},
   "source": [
    "5. Отправить лучший результат на https://www.kaggle.com/competitions/swiss-dialect-identification/overview"
   ]
  },
  {
   "cell_type": "markdown",
   "metadata": {},
   "source": [
    "6. (дополнительно на 10 баллов) Обучить модель `Word2Vec` или `Doc2Vec` на предложенном корпусе текста, выделить эмбендинги при помощи полученной модели, затем обучить выбранные модели классификации на них и оценить качество работы моделей на эмбендингах."
   ]
  },
  {
   "cell_type": "code",
   "execution_count": null,
   "metadata": {},
   "outputs": [],
   "source": []
  },
  {
   "cell_type": "markdown",
   "metadata": {},
   "source": [
    "Help links:\n",
    "\n",
    "- https://scikit-learn.org/stable/modules/generated/sklearn.feature_extraction.text.CountVectorizer.html\n",
    "- https://scikit-learn.org/stable/modules/generated/sklearn.feature_extraction.text.TfidfVectorizer.html\n",
    "- https://www.nltk.org/api/nltk.lm.html\n",
    "- https://towardsdatascience.com/a-beginners-guide-to-word-embedding-with-gensim-word2vec-model-5970fa56cc92"
   ]
  }
 ],
 "metadata": {
  "kernelspec": {
   "display_name": "Python 3",
   "language": "python",
   "name": "python3"
  },
  "language_info": {
   "codemirror_mode": {
    "name": "ipython",
    "version": 3
   },
   "file_extension": ".py",
   "mimetype": "text/x-python",
   "name": "python",
   "nbconvert_exporter": "python",
   "pygments_lexer": "ipython3",
   "version": "3.8.10"
  }
 },
 "nbformat": 4,
 "nbformat_minor": 4
}
