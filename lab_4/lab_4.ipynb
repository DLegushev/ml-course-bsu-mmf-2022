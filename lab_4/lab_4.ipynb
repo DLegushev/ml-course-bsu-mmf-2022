{
 "cells": [
  {
   "cell_type": "markdown",
   "metadata": {},
   "source": [
    "# Лабораторная работа 4\n",
    "\n",
    "## Общая информация\n",
    "\n",
    "**Дата выдачи**: 21.10.2022/24.10.2022\n",
    "\n",
    "**Срок сдачи**: 04.11.2022/08.11.2022 *(Но требуется обязательная демонстрация текущего прогресса преподавателю во время лабораторного занятия 28.10.2022/31.10.2022)*\n",
    "\n",
    "### О задании\n",
    "Целью данного задания является попытка создания собственных признаков (feature engineering), обучение и измерение качества моделей нейронных сетей при помощи фреймворка *Keras*. \n",
    "\n",
    "### Оценивание и штрафы\n",
    "Максимально допустимая оценка за работу — 10 баллов.\n",
    "\n",
    "Сдача заданий после указанного срока сдачи ведёт к снижению оценки.\n",
    "\n",
    "Задание выполняется САМОСТОЯТЕЛЬНО. «Похожие» решения считаются плагиатом и все задействованные студенты (в том числе те, у кого списали) не могут получить за него больше 0 баллов. Если вы нашли решение какого-то из заданий в открытом источнике, необходимо прислать ссылку на этот источник (скорее всего вы будете не единственным, кто это нашел, поэтому чтобы исключить подозрение в плагиате, необходима ссылка на источник). \n",
    "\n",
    "### Формат сдачи\n",
    "Устная защита выполненной лабораторной работы ОБЯЗАТЕЛЬНА!\n",
    "\n",
    "После успешной устной защиты переименуйте получившийся файл `*.ipynb` в соответствии со следующим форматом: *Username_lab_4.ipynb*, где Username — ваша фамилия на латинице (например, `lehusheu_lab_4.ipynb`) и отправьте этот файл электронной почтой по адресу `dmitri.legushev.bsu@gmail.com` c темой письма *Фамилия преподавателя - Лабораторная работа 2 - Фамилия Имя Отчество* (для обоих подгрупп). Подгруппа Атрохова Кирилла Георгиевича также ставит в копию адрес `kiryl.atrokhau+ml2022@gmail.com`. Это будет являться письменным отчетом о выполнении лабораторной работы."
   ]
  },
  {
   "cell_type": "markdown",
   "metadata": {},
   "source": [
    "**Задача:** Используя нейронные сети, создать модели, которые предсказывают какой пассажир \n",
    "    выжил после крушения на Титанике. \n",
    "\n",
    "**Данные:** Титаник\n",
    "\n",
    "**Подробнее о данных:** https://www.kaggle.com/competitions/titanic/data"
   ]
  },
  {
   "cell_type": "markdown",
   "metadata": {},
   "source": [
    "**0.** \n",
    "Установить фреймворк Keras. \n",
    "\n",
    "Загрузить данные для обучения и теста, найти признаки с пропущенными значениями."
   ]
  },
  {
   "cell_type": "code",
   "execution_count": null,
   "metadata": {},
   "outputs": [],
   "source": []
  },
  {
   "cell_type": "markdown",
   "metadata": {},
   "source": [
    "**1.** Необхоимо расширить датасет новыми признаками. Например, добавить полиномиальные признаки (sklearn.preprocessing.PolynomialFeatures) и/или на основе признаков SibSp, Age, Name, Pclass, Parch, Ticket и др. сформировать новые (Например из признака Age, можно сделать категориальную фичу, например 1-20 - 0, 21-40 - 1, 41-100 - 3; распарсить фичу Name, где можно вычленить информации о статусе человека)."
   ]
  },
  {
   "cell_type": "code",
   "execution_count": null,
   "metadata": {},
   "outputs": [],
   "source": []
  },
  {
   "cell_type": "markdown",
   "metadata": {},
   "source": [
    "**2.** Необходимо нормализовать данные. Для числовых - по одной из стратегий (MinMax, StandartScaler и др.). Для категориальных - применить OneHotEncoder. Разделить полученный датасет на train и validation."
   ]
  },
  {
   "cell_type": "code",
   "execution_count": null,
   "metadata": {},
   "outputs": [],
   "source": []
  },
  {
   "cell_type": "markdown",
   "metadata": {},
   "source": [
    "**3.** Используя фреймворк Keras необходимо реализовать однослойную и многослойную модель нейронной сети.\n",
    "\n",
    "Необходимо попробовать:\n",
    "1) Встроить разные функции активации в слоях (ReLU, sigmoid и др.)\n",
    "\n",
    "2) Обучить модели на слоях с Dropout и без.\n",
    "\n",
    "3) Встроить регуляризацию в слои (L1, L2, L1L2)\n",
    "\n",
    "4) Обучить модели с разными оптимизаторами лоса (SGD, Adam и др.)\n",
    "\n",
    "5) Обучить модели с подбором learning_rate в оптимизаторах лоса. Попробовать технику step decay.\n",
    "\n",
    "6) Обучить модели с разным числом эпох. Попробовать callback - EarlyStopping.\n",
    "\n",
    "Для каждого эксперимента необходимо:\n",
    "1. Построить графики лоса. \n",
    "\n",
    "Отрисовать history (возвращаемый список метода fit), либо для отслеживания обучения в реальном времени можно применить callback - PlotLossesKeras (from livelossplot import PlotLossesKeras). В функции fit указать callbacks=[PlotLossesKeras()].\n",
    "\n",
    "\n",
    "2. Снять метрики (не только accuracy, но и f1, recall, precision. **Tip**: sklearn) \n",
    "\n",
    "Также можно отслеживать метрики во время обучения: metrics=[tf.keras.metrics.Precision(), ..].\n",
    "\n",
    "3. Сделать выводы.\n",
    "\n",
    "**Tips**: Очень важно недопустить переобучения моделей. Для этого необходимо:\n",
    "\n",
    "1) Так как данных не так уж и много, то не делать слишком много слоев (мы ограничиваемся 2-3 слоями).\n",
    "\n",
    "2) Не указывать число эпох слишком большим (10-20-30). На графике функции потерь можно отследить на какой эпохе тренировочные данные начинают \"заучивать\" данные, а на графике валидационного лоса происходит рост функции потерь. Для этого применяют раннюю остановку обучения - EarlyStopping.\n",
    "\n",
    "3) Применять Dropout, регуляризации L1/L2/L1L2.\n",
    "\n"
   ]
  },
  {
   "cell_type": "code",
   "execution_count": null,
   "metadata": {},
   "outputs": [],
   "source": []
  },
  {
   "cell_type": "markdown",
   "metadata": {},
   "source": [
    "**4.** Отправить лучший результат на https://www.kaggle.com"
   ]
  },
  {
   "cell_type": "code",
   "execution_count": null,
   "metadata": {},
   "outputs": [],
   "source": []
  },
  {
   "cell_type": "markdown",
   "metadata": {},
   "source": [
    "Help links:\n",
    "- https://machinelearningmastery.com/tutorial-first-neural-network-python-keras/\n",
    "- https://keras.io/about/\n",
    "- https://keras.io/guides/sequential_model/\n",
    "- https://keras.io/api/layers/\n",
    "- https://keras.io/api/callbacks/\n",
    "- https://keras.io/api/optimizers/\n",
    "- https://keras.io/api/losses/\n",
    "- https://towardsdatascience.com/learning-rate-schedules-and-adaptive-learning-rate-methods-for-deep-learning-2c8f433990d1\n",
    "- https://machinelearningmastery.com/display-deep-learning-model-training-history-in-keras/"
   ]
  }
 ],
 "metadata": {
  "kernelspec": {
   "display_name": "Python 3",
   "language": "python",
   "name": "python3"
  },
  "language_info": {
   "codemirror_mode": {
    "name": "ipython",
    "version": 3
   },
   "file_extension": ".py",
   "mimetype": "text/x-python",
   "name": "python",
   "nbconvert_exporter": "python",
   "pygments_lexer": "ipython3",
   "version": "3.8.10"
  }
 },
 "nbformat": 4,
 "nbformat_minor": 5
}
